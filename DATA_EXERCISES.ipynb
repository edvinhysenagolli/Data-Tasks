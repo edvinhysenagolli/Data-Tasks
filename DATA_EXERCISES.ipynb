{
  "nbformat": 4,
  "nbformat_minor": 0,
  "metadata": {
    "colab": {
      "provenance": [],
      "authorship_tag": "ABX9TyOY+0slVTs8teJWrl2B0htM",
      "include_colab_link": true
    },
    "kernelspec": {
      "name": "python3",
      "display_name": "Python 3"
    },
    "language_info": {
      "name": "python"
    }
  },
  "cells": [
    {
      "cell_type": "markdown",
      "metadata": {
        "id": "view-in-github",
        "colab_type": "text"
      },
      "source": [
        "<a href=\"https://colab.research.google.com/github/edvinhysenagolli/Data-Tasks/blob/main/DATA_EXERCISES.ipynb\" target=\"_parent\"><img src=\"https://colab.research.google.com/assets/colab-badge.svg\" alt=\"Open In Colab\"/></a>"
      ]
    },
    {
      "cell_type": "markdown",
      "source": [
        "## DATA, PANDAS, PLOTS 😀"
      ],
      "metadata": {
        "id": "0xLqfnj1Gctm"
      }
    },
    {
      "cell_type": "code",
      "source": [
        "# import libraries\n",
        "import pandas as pd\n",
        "\n",
        "# load data\n",
        "# This code is made to load our data stored on Google Drive\n",
        "def gd_path(file_id):\n",
        "    \"\"\"Generate a shareable link from Google Drive file id.\"\"\"\n",
        "    return f\"https://drive.google.com/uc?export=download&id={file_id}\"\n",
        "\n",
        "# Google Drive file ids\n",
        "files_id = {\n",
        "    \"titles\": \"1PLdn50N9GRa53ZbuVWo0l47F_IXdvlEm\",\n",
        "    \"sales\": \"1fzFc9rwYmVIPaGOFmhLVxCi3kg19vNU2\", \n",
        "    \"publishers\": \"1s9E8_AVOziTrowb3wyh2jg3PV763VOyq\",\n",
        "    \"employee\": \"1h9mUjsVqpP74b1w0x7KOw37n_n9Ulkt5\", \n",
        "    \"authors\": \"1fEF89Nhe61EebAljKlwFwfEuokK0o6aJ\",\n",
        "    \"pub_info\": \"1OEgogcGKy--EpuVj0kqq7lyBZNGW6YSv\", \n",
        "    \"jobs\": \"1V1Za8hUdXD-vJOyRdX4aQV5wanIff2eM\",\n",
        "    \"discounts\": \"111dvSxMcCsTgOuV1wDSKFJxO1Xcxd9VS\", \n",
        "}\n",
        "\n",
        "# Read data from Google Drive\n",
        "sales = pd.read_csv(gd_path(files_id[\"sales\"]), sep=\";\")\n",
        "authors = pd.read_csv(gd_path(files_id[\"authors\"]), sep=\";\")\n",
        "publishers = pd.read_csv(gd_path(files_id[\"publishers\"]), sep=\";\")\n",
        "titles = pd.read_csv(gd_path(files_id[\"titles\"]), sep=\";\")\n",
        "employee = pd.read_csv(gd_path(files_id[\"employee\"]), sep=\";\")\n",
        "pub_info = pd.read_csv(gd_path(files_id[\"pub_info\"]), sep=\";\", encoding_errors = 'replace')\n",
        "discounts = pd.read_csv(gd_path(files_id[\"discounts\"]), sep=\";\")\n",
        "jobs = pd.read_csv(gd_path(files_id[\"jobs\"]), sep=\";\")"
      ],
      "metadata": {
        "id": "BkOg-AqDF3o2"
      },
      "execution_count": 13,
      "outputs": []
    },
    {
      "cell_type": "code",
      "source": [
        "#From how many different states are our authors?\n",
        "diff_states = authors[\"state\"].unique()\n",
        "len(diff_states)\n",
        "\n",
        "#easier\n",
        "len(authors[\"state\"].unique())"
      ],
      "metadata": {
        "colab": {
          "base_uri": "https://localhost:8080/"
        },
        "id": "Nvh718UeG0_N",
        "outputId": "411cfb12-bdc1-4fdf-e836-27123109e7ab"
      },
      "execution_count": 5,
      "outputs": [
        {
          "output_type": "execute_result",
          "data": {
            "text/plain": [
              "qty    21.666667\n",
              "dtype: float64"
            ]
          },
          "metadata": {},
          "execution_count": 5
        }
      ]
    },
    {
      "cell_type": "code",
      "source": [
        "#What's the average quantity of titles sold per sale by store 7131?\n",
        "sales.loc[sales[\"stor_id\"] == 7131, [\"qty\"]].mean()"
      ],
      "metadata": {
        "id": "f0i_sWDrHMof"
      },
      "execution_count": null,
      "outputs": []
    },
    {
      "cell_type": "code",
      "source": [
        "# When was the employee with the highest level hired?\n",
        "employee[[\"hire_date\", \"job_lvl\"]].sort_values(by=\"job_lvl\", ascending = False).head(1)"
      ],
      "metadata": {
        "id": "C56dOK85HOsW"
      },
      "execution_count": null,
      "outputs": []
    },
    {
      "cell_type": "code",
      "source": [
        "#What's the average price of psychology books?\n",
        "titles.loc[titles[\"type\"] == \"psychology\"][\"price\"].mean()"
      ],
      "metadata": {
        "id": "c2kIHOUMHVqy"
      },
      "execution_count": null,
      "outputs": []
    },
    {
      "cell_type": "code",
      "source": [
        "#Which category of books has had more year-to-date sales, \"business\" or \"popular_comp\"? You can write two queries to answer this question.\n",
        "\n",
        "bus = titles.loc[titles[\"type\"]==\"business\", \"ytd_sales\"].sum()\n",
        "pop = titles.loc[titles[\"type\"]==\"popular_comp\", \"ytd_sales\"].sum()\n",
        "\n",
        "if bus > pop:\n",
        "    print(\"The business with\", bus, \"ytd sales\")\n",
        "else:\n",
        "    print(\"pop's better\")"
      ],
      "metadata": {
        "id": "Vvn93plyHoAE"
      },
      "execution_count": null,
      "outputs": []
    },
    {
      "cell_type": "code",
      "source": [
        "#What's the price of the most expensive title from each publisher?\n",
        "titles.groupby('pub_id')['price'].max()"
      ],
      "metadata": {
        "id": "-v01pVAyIZQf"
      },
      "execution_count": null,
      "outputs": []
    },
    {
      "cell_type": "code",
      "source": [
        "#Find the average job level for each job_id from the employees table.\n",
        "employee.groupby('job_id')['job_lvl'].mean().sort_values().round(2)"
      ],
      "metadata": {
        "id": "yTwRoOLJIh3z"
      },
      "execution_count": null,
      "outputs": []
    },
    {
      "cell_type": "code",
      "source": [
        "#the average price of each publisher - book type combination\n",
        "titles.groupby(['pub_id','type']).agg({'title_id':'count', 'price':'mean'}).round(2)\n",
        "\n",
        "#formating \n",
        "# ex7.rename(columns={'price': 'Avg_Price'})    #    } inplace = True)"
      ],
      "metadata": {
        "id": "qLIkJMqCIstP"
      },
      "execution_count": null,
      "outputs": []
    },
    {
      "cell_type": "code",
      "source": [
        "#full name, job description and publisher name of all employees\n",
        "e = employee\n",
        "p = publishers\n",
        "j = jobs\n",
        "\n",
        "ex = e.merge(\n",
        "    j,\n",
        "    how='left',\n",
        "    left_on='job_id',\n",
        "    right_on='job_id',\n",
        ").merge(\n",
        "    p,\n",
        "    how='left',\n",
        "    left_on='pub_id',\n",
        "    right_on='pub_id'\n",
        ")\n",
        "\n",
        "ex[['fname', 'lname', 'job_desc', 'pub_name']]"
      ],
      "metadata": {
        "id": "mUQ95zrCJIhI"
      },
      "execution_count": null,
      "outputs": []
    },
    {
      "cell_type": "code",
      "source": [
        "#the average book price, per publisher, for the following book types and price categories\n",
        "\n",
        "selected_books = titles.loc[titles['type'].isin(['business', 'trad_cook', 'psychology'])].copy()    #copy() method will not change the original df\n",
        "\n",
        "selected_books\n",
        "\n",
        "selected_books['price_category'] = 'high'\n",
        "\n",
        "selected_books['price_category'] = 'high'\n",
        "selected_books.loc[selected_books['price'] <= 15, 'price_category'] = 'medium'\n",
        "selected_books.loc[selected_books['price'] <= 10, 'price_category'] = 'low'\n",
        "selected_books.loc[selected_books['price'] <= 5, 'price_category'] = 'super low'\n",
        "\n",
        "selected_books.groupby(by = ['pub_id', 'type', 'price_category']).aggregate({'price' : 'mean'}).round(2)"
      ],
      "metadata": {
        "id": "sqxNr7mBKA82"
      },
      "execution_count": null,
      "outputs": []
    },
    {
      "cell_type": "markdown",
      "source": [
        "###DATA VISUALIZATION"
      ],
      "metadata": {
        "id": "UUHf5GR-KcpL"
      }
    },
    {
      "cell_type": "code",
      "source": [
        "url = 'https://drive.google.com/file/d/18zYGrzRhn_mz1HJLXxSO_MwR0_nWBS3K/view?usp=sharing' # vehicles.csv\n",
        "path = 'https://drive.google.com/uc?export=download&id='+url.split('/')[-2]\n",
        "cars = pd.read_csv(path)\n",
        "\n",
        "#Add a column that states if a car's transmission is automatic or manual:\n",
        "cars[\"Auto\"] = cars[\"Transmission\"].str.contains(\"Automatic\")\n",
        "cars"
      ],
      "metadata": {
        "id": "ftxeUjmtKHnp"
      },
      "execution_count": null,
      "outputs": []
    },
    {
      "cell_type": "code",
      "source": [
        "#how many cars have each type of Drivetrain? Highlight \"All-Wheel Drive\" \n",
        "drivetype = cars['Drivetrain'].value_counts()\n",
        "\n",
        "\n",
        "colors = ['gray'] * len(drivetype)\n",
        "colors[drivetype.index.get_loc('All-Wheel Drive')] = 'red' \n",
        "\n",
        "drivetype.plot(kind='bar', color=colors);"
      ],
      "metadata": {
        "id": "uuJ4Z0O8KvoP"
      },
      "execution_count": null,
      "outputs": []
    },
    {
      "cell_type": "code",
      "source": [
        "#A plot that displays the evolution of the average CO2 emissions by cars over the years\n",
        "co2 = cars.groupby('Year')['CO2 Emission Grams/Mile'].mean()\n",
        "co2.plot.line();"
      ],
      "metadata": {
        "id": "sFektB7JMW87"
      },
      "execution_count": null,
      "outputs": []
    },
    {
      "cell_type": "code",
      "source": [
        "# checking the data \n",
        "cars[['Make','Drivetrain']].sample(5)\n",
        "cars['Make'].unique()                        \n",
        "\n",
        "#replacing the dash to space\n",
        "cars['Drivetrain'].str.replace('-', ' ')\n",
        "cars['Drivetrain'] = cars['Drivetrain'].str.replace('-', ' ')\n",
        "\n",
        "\n",
        "#using replace method, arg: not small or capital or numbers, or non alphanumeric characters\n",
        "\n",
        "cars['Make'].str.replace('[^a-zA-Z0-9]',' ')\n",
        "cars['Make'] = cars['Make'].str.replace('[^a-zA-Z0-9]',' ')\n",
        "\n",
        "cars.head()"
      ],
      "metadata": {
        "id": "GKumY5xLM8gy"
      },
      "execution_count": null,
      "outputs": []
    }
  ]
}